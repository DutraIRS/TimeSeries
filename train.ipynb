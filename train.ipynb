{
 "cells": [
  {
   "cell_type": "code",
   "execution_count": 15,
   "metadata": {},
   "outputs": [],
   "source": [
    "import models\n",
    "import numpy as np\n",
    "import pandas as pd\n",
    "import matplotlib.pyplot as plt"
   ]
  },
  {
   "cell_type": "code",
   "execution_count": 16,
   "metadata": {},
   "outputs": [],
   "source": [
    "data = pd.read_csv(\"us_change_cleaned.csv\")\n",
    "X = data.drop(columns='Consumption')\n",
    "y = data['Consumption']"
   ]
  },
  {
   "cell_type": "code",
   "execution_count": 17,
   "metadata": {},
   "outputs": [
    {
     "data": {
      "text/plain": [
       "((198, 5), (198,))"
      ]
     },
     "execution_count": 17,
     "metadata": {},
     "output_type": "execute_result"
    }
   ],
   "source": [
    "X.shape, y.shape"
   ]
  },
  {
   "cell_type": "code",
   "execution_count": 18,
   "metadata": {},
   "outputs": [
    {
     "data": {
      "text/plain": [
       "((158, 5), (158,), (40, 5), (40,))"
      ]
     },
     "execution_count": 18,
     "metadata": {},
     "output_type": "execute_result"
    }
   ],
   "source": [
    "X_train = X[:int(0.8*len(X))]\n",
    "y_train = y[:int(0.8*len(y))]\n",
    "X_test = X[int(0.8*len(X)):]\n",
    "y_test = y[int(0.8*len(y)):]\n",
    "X_train.shape, y_train.shape, X_test.shape, y_test.shape"
   ]
  },
  {
   "cell_type": "code",
   "execution_count": 19,
   "metadata": {},
   "outputs": [],
   "source": [
    "metrics = ['mse', 'mae']"
   ]
  },
  {
   "cell_type": "code",
   "execution_count": 20,
   "metadata": {},
   "outputs": [
    {
     "data": {
      "text/plain": [
       "{'mse': 0.12819038773370228, 'mae': 0.2858484325156872}"
      ]
     },
     "execution_count": 20,
     "metadata": {},
     "output_type": "execute_result"
    }
   ],
   "source": [
    "# Mean \n",
    "model = models.Mean()\n",
    "model.fit(X_train, y_train)\n",
    "y_pred = model.predict(X_test)\n",
    "model.evaluate(metrics=metrics, X=X_test, y=y_test)\n"
   ]
  },
  {
   "cell_type": "code",
   "execution_count": 21,
   "metadata": {},
   "outputs": [
    {
     "name": "stdout",
     "output_type": "stream",
     "text": [
      "0.7782184182306155\n",
      "[0.77821842 0.77821842 0.77821842 0.77821842 0.77821842 0.77821842\n",
      " 0.77821842 0.77821842 0.77821842 0.77821842 0.77821842 0.77821842\n",
      " 0.77821842 0.77821842 0.77821842 0.77821842 0.77821842 0.77821842\n",
      " 0.77821842 0.77821842 0.77821842 0.77821842 0.77821842 0.77821842\n",
      " 0.77821842 0.77821842 0.77821842 0.77821842 0.77821842 0.77821842\n",
      " 0.77821842 0.77821842 0.77821842 0.77821842 0.77821842 0.77821842\n",
      " 0.77821842 0.77821842 0.77821842 0.77821842]\n"
     ]
    }
   ],
   "source": [
    "print(y_train.mean())\n",
    "print(y_pred)"
   ]
  },
  {
   "cell_type": "code",
   "execution_count": 22,
   "metadata": {},
   "outputs": [
    {
     "data": {
      "text/plain": [
       "{'mse': 1.1112844464118405, 'mae': 1.0071672410592745}"
      ]
     },
     "execution_count": 22,
     "metadata": {},
     "output_type": "execute_result"
    }
   ],
   "source": [
    "# RandomWalk\n",
    "model = models.RandomWalk()\n",
    "model.fit(X_train, y_train)\n",
    "y_pred = model.predict(X_test)\n",
    "model.evaluate(metrics=metrics, X=X_test, y=y_test)\n"
   ]
  },
  {
   "cell_type": "code",
   "execution_count": 23,
   "metadata": {},
   "outputs": [
    {
     "name": "stdout",
     "output_type": "stream",
     "text": [
      "-0.405843686476004\n",
      "[-0.40584369 -0.40584369 -0.40584369 -0.40584369 -0.40584369 -0.40584369\n",
      " -0.40584369 -0.40584369 -0.40584369 -0.40584369 -0.40584369 -0.40584369\n",
      " -0.40584369 -0.40584369 -0.40584369 -0.40584369 -0.40584369 -0.40584369\n",
      " -0.40584369 -0.40584369 -0.40584369 -0.40584369 -0.40584369 -0.40584369\n",
      " -0.40584369 -0.40584369 -0.40584369 -0.40584369 -0.40584369 -0.40584369\n",
      " -0.40584369 -0.40584369 -0.40584369 -0.40584369 -0.40584369 -0.40584369\n",
      " -0.40584369 -0.40584369 -0.40584369 -0.40584369]\n"
     ]
    }
   ],
   "source": [
    "print(y_train.iloc[-1])\n",
    "print(y_pred)"
   ]
  },
  {
   "cell_type": "code",
   "execution_count": 24,
   "metadata": {},
   "outputs": [
    {
     "data": {
      "text/plain": [
       "{'mse': 0.02238550411797885, 'mae': 0.11513144763974555}"
      ]
     },
     "execution_count": 24,
     "metadata": {},
     "output_type": "execute_result"
    }
   ],
   "source": [
    "# LinearRegression\n",
    "model = models.LinearRegression()\n",
    "model.fit(X_train, y_train)\n",
    "y_pred = model.predict(X_test)\n",
    "model.evaluate(metrics=metrics, X=X_test, y=y_test)"
   ]
  }
 ],
 "metadata": {
  "kernelspec": {
   "display_name": "Python 3",
   "language": "python",
   "name": "python3"
  },
  "language_info": {
   "codemirror_mode": {
    "name": "ipython",
    "version": 3
   },
   "file_extension": ".py",
   "mimetype": "text/x-python",
   "name": "python",
   "nbconvert_exporter": "python",
   "pygments_lexer": "ipython3",
   "version": "3.11.1"
  }
 },
 "nbformat": 4,
 "nbformat_minor": 2
}
