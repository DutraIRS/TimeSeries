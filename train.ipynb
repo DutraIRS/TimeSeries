{
 "cells": [
  {
   "cell_type": "code",
   "execution_count": 5,
   "metadata": {},
   "outputs": [],
   "source": [
    "import models\n",
    "import numpy as np\n",
    "import pandas as pd\n",
    "import matplotlib.pyplot as plt"
   ]
  },
  {
   "cell_type": "code",
   "execution_count": 6,
   "metadata": {},
   "outputs": [],
   "source": [
    "data = pd.read_csv(\"us_change_cleaned.csv\")\n",
    "X = data.drop(columns='Consumption')\n",
    "y = data['Consumption']"
   ]
  },
  {
   "cell_type": "code",
   "execution_count": 7,
   "metadata": {},
   "outputs": [
    {
     "data": {
      "text/plain": [
       "((198, 6), (198,))"
      ]
     },
     "execution_count": 7,
     "metadata": {},
     "output_type": "execute_result"
    }
   ],
   "source": [
    "X.shape, y.shape"
   ]
  },
  {
   "cell_type": "code",
   "execution_count": null,
   "metadata": {},
   "outputs": [
    {
     "ename": "TypeError",
     "evalue": "cannot do slice indexing on RangeIndex with these indexers [0.0] of type float",
     "output_type": "error",
     "traceback": [
      "\u001b[1;31m---------------------------------------------------------------------------\u001b[0m",
      "\u001b[1;31mTypeError\u001b[0m                                 Traceback (most recent call last)",
      "Cell \u001b[1;32mIn[8], line 16\u001b[0m\n\u001b[0;32m     12\u001b[0m             tendencia[t] \u001b[38;5;241m=\u001b[39m (\u001b[38;5;241m0.5\u001b[39m \u001b[38;5;241m*\u001b[39m series[t \u001b[38;5;241m-\u001b[39m q] \u001b[38;5;241m+\u001b[39m np\u001b[38;5;241m.\u001b[39msum(valores) \u001b[38;5;241m+\u001b[39m \u001b[38;5;241m0.5\u001b[39m \u001b[38;5;241m*\u001b[39m series[t \u001b[38;5;241m+\u001b[39m q]) \u001b[38;5;241m/\u001b[39m d\n\u001b[0;32m     14\u001b[0m     \u001b[38;5;28;01mreturn\u001b[39;00m tendencia\n\u001b[1;32m---> 16\u001b[0m tendencia \u001b[38;5;241m=\u001b[39m \u001b[43mestimar_tendencia\u001b[49m\u001b[43m(\u001b[49m\u001b[43my\u001b[49m\u001b[43m,\u001b[49m\u001b[43m \u001b[49m\u001b[38;5;241;43m4\u001b[39;49m\u001b[43m)\u001b[49m\n",
      "Cell \u001b[1;32mIn[8], line 11\u001b[0m, in \u001b[0;36mestimar_tendencia\u001b[1;34m(series, d)\u001b[0m\n\u001b[0;32m      9\u001b[0m         tendencia[t] \u001b[38;5;241m=\u001b[39m np\u001b[38;5;241m.\u001b[39mmean(series[t \u001b[38;5;241m-\u001b[39m q:t \u001b[38;5;241m+\u001b[39m q \u001b[38;5;241m+\u001b[39m \u001b[38;5;241m1\u001b[39m])\n\u001b[0;32m     10\u001b[0m     \u001b[38;5;28;01melse\u001b[39;00m:  \u001b[38;5;66;03m# d par\u001b[39;00m\n\u001b[1;32m---> 11\u001b[0m         valores \u001b[38;5;241m=\u001b[39m \u001b[43mseries\u001b[49m\u001b[43m[\u001b[49m\u001b[43mt\u001b[49m\u001b[43m \u001b[49m\u001b[38;5;241;43m-\u001b[39;49m\u001b[43m \u001b[49m\u001b[43mq\u001b[49m\u001b[43m:\u001b[49m\u001b[43mt\u001b[49m\u001b[43m \u001b[49m\u001b[38;5;241;43m+\u001b[39;49m\u001b[43m \u001b[49m\u001b[43mq\u001b[49m\u001b[43m]\u001b[49m\n\u001b[0;32m     12\u001b[0m         tendencia[t] \u001b[38;5;241m=\u001b[39m (\u001b[38;5;241m0.5\u001b[39m \u001b[38;5;241m*\u001b[39m series[t \u001b[38;5;241m-\u001b[39m q] \u001b[38;5;241m+\u001b[39m np\u001b[38;5;241m.\u001b[39msum(valores) \u001b[38;5;241m+\u001b[39m \u001b[38;5;241m0.5\u001b[39m \u001b[38;5;241m*\u001b[39m series[t \u001b[38;5;241m+\u001b[39m q]) \u001b[38;5;241m/\u001b[39m d\n\u001b[0;32m     14\u001b[0m \u001b[38;5;28;01mreturn\u001b[39;00m tendencia\n",
      "File \u001b[1;32mc:\\Users\\Lavin\\AppData\\Local\\Programs\\Python\\Python311\\Lib\\site-packages\\pandas\\core\\series.py:1007\u001b[0m, in \u001b[0;36mSeries.__getitem__\u001b[1;34m(self, key)\u001b[0m\n\u001b[0;32m   1004\u001b[0m     key \u001b[38;5;241m=\u001b[39m np\u001b[38;5;241m.\u001b[39masarray(key, dtype\u001b[38;5;241m=\u001b[39m\u001b[38;5;28mbool\u001b[39m)\n\u001b[0;32m   1005\u001b[0m     \u001b[38;5;28;01mreturn\u001b[39;00m \u001b[38;5;28mself\u001b[39m\u001b[38;5;241m.\u001b[39m_get_values(key)\n\u001b[1;32m-> 1007\u001b[0m \u001b[38;5;28;01mreturn\u001b[39;00m \u001b[38;5;28;43mself\u001b[39;49m\u001b[38;5;241;43m.\u001b[39;49m\u001b[43m_get_with\u001b[49m\u001b[43m(\u001b[49m\u001b[43mkey\u001b[49m\u001b[43m)\u001b[49m\n",
      "File \u001b[1;32mc:\\Users\\Lavin\\AppData\\Local\\Programs\\Python\\Python311\\Lib\\site-packages\\pandas\\core\\series.py:1014\u001b[0m, in \u001b[0;36mSeries._get_with\u001b[1;34m(self, key)\u001b[0m\n\u001b[0;32m   1009\u001b[0m \u001b[38;5;28;01mdef\u001b[39;00m \u001b[38;5;21m_get_with\u001b[39m(\u001b[38;5;28mself\u001b[39m, key):\n\u001b[0;32m   1010\u001b[0m     \u001b[38;5;66;03m# other: fancy integer or otherwise\u001b[39;00m\n\u001b[0;32m   1011\u001b[0m     \u001b[38;5;28;01mif\u001b[39;00m \u001b[38;5;28misinstance\u001b[39m(key, \u001b[38;5;28mslice\u001b[39m):\n\u001b[0;32m   1012\u001b[0m         \u001b[38;5;66;03m# _convert_slice_indexer to determine if this slice is positional\u001b[39;00m\n\u001b[0;32m   1013\u001b[0m         \u001b[38;5;66;03m#  or label based, and if the latter, convert to positional\u001b[39;00m\n\u001b[1;32m-> 1014\u001b[0m         slobj \u001b[38;5;241m=\u001b[39m \u001b[38;5;28;43mself\u001b[39;49m\u001b[38;5;241;43m.\u001b[39;49m\u001b[43mindex\u001b[49m\u001b[38;5;241;43m.\u001b[39;49m\u001b[43m_convert_slice_indexer\u001b[49m\u001b[43m(\u001b[49m\u001b[43mkey\u001b[49m\u001b[43m,\u001b[49m\u001b[43m \u001b[49m\u001b[43mkind\u001b[49m\u001b[38;5;241;43m=\u001b[39;49m\u001b[38;5;124;43m\"\u001b[39;49m\u001b[38;5;124;43mgetitem\u001b[39;49m\u001b[38;5;124;43m\"\u001b[39;49m\u001b[43m)\u001b[49m\n\u001b[0;32m   1015\u001b[0m         \u001b[38;5;28;01mreturn\u001b[39;00m \u001b[38;5;28mself\u001b[39m\u001b[38;5;241m.\u001b[39m_slice(slobj)\n\u001b[0;32m   1016\u001b[0m     \u001b[38;5;28;01melif\u001b[39;00m \u001b[38;5;28misinstance\u001b[39m(key, ABCDataFrame):\n",
      "File \u001b[1;32mc:\\Users\\Lavin\\AppData\\Local\\Programs\\Python\\Python311\\Lib\\site-packages\\pandas\\core\\indexes\\numeric.py:234\u001b[0m, in \u001b[0;36mNumericIndex._convert_slice_indexer\u001b[1;34m(self, key, kind)\u001b[0m\n\u001b[0;32m    228\u001b[0m     \u001b[38;5;66;03m# TODO: can we write this as a condition based on\u001b[39;00m\n\u001b[0;32m    229\u001b[0m     \u001b[38;5;66;03m#  e.g. _should_fallback_to_positional?\u001b[39;00m\n\u001b[0;32m    230\u001b[0m     \u001b[38;5;66;03m# We always treat __getitem__ slicing as label-based\u001b[39;00m\n\u001b[0;32m    231\u001b[0m     \u001b[38;5;66;03m# translate to locations\u001b[39;00m\n\u001b[0;32m    232\u001b[0m     \u001b[38;5;28;01mreturn\u001b[39;00m \u001b[38;5;28mself\u001b[39m\u001b[38;5;241m.\u001b[39mslice_indexer(key\u001b[38;5;241m.\u001b[39mstart, key\u001b[38;5;241m.\u001b[39mstop, key\u001b[38;5;241m.\u001b[39mstep)\n\u001b[1;32m--> 234\u001b[0m \u001b[38;5;28;01mreturn\u001b[39;00m \u001b[38;5;28;43msuper\u001b[39;49m\u001b[43m(\u001b[49m\u001b[43m)\u001b[49m\u001b[38;5;241;43m.\u001b[39;49m\u001b[43m_convert_slice_indexer\u001b[49m\u001b[43m(\u001b[49m\u001b[43mkey\u001b[49m\u001b[43m,\u001b[49m\u001b[43m \u001b[49m\u001b[43mkind\u001b[49m\u001b[38;5;241;43m=\u001b[39;49m\u001b[43mkind\u001b[49m\u001b[43m)\u001b[49m\n",
      "File \u001b[1;32mc:\\Users\\Lavin\\AppData\\Local\\Programs\\Python\\Python311\\Lib\\site-packages\\pandas\\core\\indexes\\base.py:4250\u001b[0m, in \u001b[0;36mIndex._convert_slice_indexer\u001b[1;34m(self, key, kind)\u001b[0m\n\u001b[0;32m   4246\u001b[0m \u001b[38;5;28;01mif\u001b[39;00m kind \u001b[38;5;241m==\u001b[39m \u001b[38;5;124m\"\u001b[39m\u001b[38;5;124mgetitem\u001b[39m\u001b[38;5;124m\"\u001b[39m:\n\u001b[0;32m   4247\u001b[0m     \u001b[38;5;66;03m# called from the getitem slicers, validate that we are in fact integers\u001b[39;00m\n\u001b[0;32m   4248\u001b[0m     \u001b[38;5;28;01mif\u001b[39;00m \u001b[38;5;28mself\u001b[39m\u001b[38;5;241m.\u001b[39mis_integer() \u001b[38;5;129;01mor\u001b[39;00m is_index_slice:\n\u001b[0;32m   4249\u001b[0m         \u001b[38;5;66;03m# Note: these checks are redundant if we know is_index_slice\u001b[39;00m\n\u001b[1;32m-> 4250\u001b[0m         \u001b[38;5;28;43mself\u001b[39;49m\u001b[38;5;241;43m.\u001b[39;49m\u001b[43m_validate_indexer\u001b[49m\u001b[43m(\u001b[49m\u001b[38;5;124;43m\"\u001b[39;49m\u001b[38;5;124;43mslice\u001b[39;49m\u001b[38;5;124;43m\"\u001b[39;49m\u001b[43m,\u001b[49m\u001b[43m \u001b[49m\u001b[43mkey\u001b[49m\u001b[38;5;241;43m.\u001b[39;49m\u001b[43mstart\u001b[49m\u001b[43m,\u001b[49m\u001b[43m \u001b[49m\u001b[38;5;124;43m\"\u001b[39;49m\u001b[38;5;124;43mgetitem\u001b[39;49m\u001b[38;5;124;43m\"\u001b[39;49m\u001b[43m)\u001b[49m\n\u001b[0;32m   4251\u001b[0m         \u001b[38;5;28mself\u001b[39m\u001b[38;5;241m.\u001b[39m_validate_indexer(\u001b[38;5;124m\"\u001b[39m\u001b[38;5;124mslice\u001b[39m\u001b[38;5;124m\"\u001b[39m, key\u001b[38;5;241m.\u001b[39mstop, \u001b[38;5;124m\"\u001b[39m\u001b[38;5;124mgetitem\u001b[39m\u001b[38;5;124m\"\u001b[39m)\n\u001b[0;32m   4252\u001b[0m         \u001b[38;5;28mself\u001b[39m\u001b[38;5;241m.\u001b[39m_validate_indexer(\u001b[38;5;124m\"\u001b[39m\u001b[38;5;124mslice\u001b[39m\u001b[38;5;124m\"\u001b[39m, key\u001b[38;5;241m.\u001b[39mstep, \u001b[38;5;124m\"\u001b[39m\u001b[38;5;124mgetitem\u001b[39m\u001b[38;5;124m\"\u001b[39m)\n",
      "File \u001b[1;32mc:\\Users\\Lavin\\AppData\\Local\\Programs\\Python\\Python311\\Lib\\site-packages\\pandas\\core\\indexes\\base.py:6591\u001b[0m, in \u001b[0;36mIndex._validate_indexer\u001b[1;34m(self, form, key, kind)\u001b[0m\n\u001b[0;32m   6588\u001b[0m \u001b[38;5;28;01massert\u001b[39;00m kind \u001b[38;5;129;01min\u001b[39;00m [\u001b[38;5;124m\"\u001b[39m\u001b[38;5;124mgetitem\u001b[39m\u001b[38;5;124m\"\u001b[39m, \u001b[38;5;124m\"\u001b[39m\u001b[38;5;124miloc\u001b[39m\u001b[38;5;124m\"\u001b[39m]\n\u001b[0;32m   6590\u001b[0m \u001b[38;5;28;01mif\u001b[39;00m key \u001b[38;5;129;01mis\u001b[39;00m \u001b[38;5;129;01mnot\u001b[39;00m \u001b[38;5;28;01mNone\u001b[39;00m \u001b[38;5;129;01mand\u001b[39;00m \u001b[38;5;129;01mnot\u001b[39;00m is_integer(key):\n\u001b[1;32m-> 6591\u001b[0m     \u001b[38;5;28;01mraise\u001b[39;00m \u001b[38;5;28mself\u001b[39m\u001b[38;5;241m.\u001b[39m_invalid_indexer(form, key)\n",
      "\u001b[1;31mTypeError\u001b[0m: cannot do slice indexing on RangeIndex with these indexers [0.0] of type float"
     ]
    }
   ],
   "source": [
    "def estimar_tendencia(series, d):\n",
    "    n = len(series)\n",
    "    q = (d - 1) / 2 if d % 2 != 0 else d / 2  # Definição de q\n",
    "    q = int(q)\n",
    "    n = int(n)\n",
    "    tendencia = np.full(n, np.nan)  # Inicializa com NaN\n",
    "\n",
    "    for t in range(q, n - q):\n",
    "        if d % 2 != 0:  # d ímpar\n",
    "            tendencia[t] = np.mean(series[t - q:t + q + 1])\n",
    "        else:  # d par\n",
    "            valores = series[t - q:t + q]\n",
    "            tendencia[t] = (0.5 * series[t - q] + np.sum(valores) + 0.5 * series[t + q]) / d\n",
    "    \n",
    "    return tendencia\n",
    "\n",
    "tendencia = estimar_tendencia(y, 4)\n"
   ]
  },
  {
   "cell_type": "code",
   "execution_count": null,
   "metadata": {},
   "outputs": [
    {
     "data": {
      "text/plain": [
       "((158, 6), (158,), (40, 6), (40,))"
      ]
     },
     "execution_count": 4,
     "metadata": {},
     "output_type": "execute_result"
    }
   ],
   "source": [
    "X_train = X[:int(0.8*len(X))]\n",
    "y_train = y[:int(0.8*len(y))]\n",
    "X_test = X[int(0.8*len(X)):]\n",
    "y_test = y[int(0.8*len(y)):]\n",
    "X_train.shape, y_train.shape, X_test.shape, y_test.shape"
   ]
  },
  {
   "cell_type": "code",
   "execution_count": null,
   "metadata": {},
   "outputs": [
    {
     "data": {
      "text/html": [
       "<div>\n",
       "<style scoped>\n",
       "    .dataframe tbody tr th:only-of-type {\n",
       "        vertical-align: middle;\n",
       "    }\n",
       "\n",
       "    .dataframe tbody tr th {\n",
       "        vertical-align: top;\n",
       "    }\n",
       "\n",
       "    .dataframe thead th {\n",
       "        text-align: right;\n",
       "    }\n",
       "</style>\n",
       "<table border=\"1\" class=\"dataframe\">\n",
       "  <thead>\n",
       "    <tr style=\"text-align: right;\">\n",
       "      <th></th>\n",
       "      <th>Quarter</th>\n",
       "      <th>Income</th>\n",
       "      <th>Production</th>\n",
       "      <th>Savings</th>\n",
       "      <th>Unemployment</th>\n",
       "      <th>Date</th>\n",
       "    </tr>\n",
       "  </thead>\n",
       "  <tbody>\n",
       "    <tr>\n",
       "      <th>154</th>\n",
       "      <td>154</td>\n",
       "      <td>-2.123959</td>\n",
       "      <td>-3.349753</td>\n",
       "      <td>-27.365973</td>\n",
       "      <td>0.5</td>\n",
       "      <td>2008 Q3</td>\n",
       "    </tr>\n",
       "    <tr>\n",
       "      <th>155</th>\n",
       "      <td>155</td>\n",
       "      <td>0.867342</td>\n",
       "      <td>-4.371497</td>\n",
       "      <td>34.223733</td>\n",
       "      <td>1.2</td>\n",
       "      <td>2008 Q4</td>\n",
       "    </tr>\n",
       "    <tr>\n",
       "      <th>156</th>\n",
       "      <td>156</td>\n",
       "      <td>-0.429951</td>\n",
       "      <td>-5.778784</td>\n",
       "      <td>-5.022486</td>\n",
       "      <td>1.4</td>\n",
       "      <td>2009 Q1</td>\n",
       "    </tr>\n",
       "    <tr>\n",
       "      <th>157</th>\n",
       "      <td>157</td>\n",
       "      <td>1.069271</td>\n",
       "      <td>-2.890965</td>\n",
       "      <td>22.778077</td>\n",
       "      <td>0.8</td>\n",
       "      <td>2009 Q2</td>\n",
       "    </tr>\n",
       "  </tbody>\n",
       "</table>\n",
       "</div>"
      ],
      "text/plain": [
       "     Quarter    Income  Production    Savings  Unemployment     Date\n",
       "154      154 -2.123959   -3.349753 -27.365973           0.5  2008 Q3\n",
       "155      155  0.867342   -4.371497  34.223733           1.2  2008 Q4\n",
       "156      156 -0.429951   -5.778784  -5.022486           1.4  2009 Q1\n",
       "157      157  1.069271   -2.890965  22.778077           0.8  2009 Q2"
      ]
     },
     "execution_count": 5,
     "metadata": {},
     "output_type": "execute_result"
    }
   ],
   "source": [
    "X_train[-4:]"
   ]
  },
  {
   "cell_type": "code",
   "execution_count": null,
   "metadata": {},
   "outputs": [
    {
     "data": {
      "text/plain": [
       "154   -0.751601\n",
       "155   -0.935007\n",
       "156   -0.226118\n",
       "157   -0.405844\n",
       "Name: Consumption, dtype: float64"
      ]
     },
     "execution_count": 6,
     "metadata": {},
     "output_type": "execute_result"
    }
   ],
   "source": [
    "y_train[-4:]"
   ]
  },
  {
   "cell_type": "code",
   "execution_count": null,
   "metadata": {},
   "outputs": [
    {
     "data": {
      "text/html": [
       "<div>\n",
       "<style scoped>\n",
       "    .dataframe tbody tr th:only-of-type {\n",
       "        vertical-align: middle;\n",
       "    }\n",
       "\n",
       "    .dataframe tbody tr th {\n",
       "        vertical-align: top;\n",
       "    }\n",
       "\n",
       "    .dataframe thead th {\n",
       "        text-align: right;\n",
       "    }\n",
       "</style>\n",
       "<table border=\"1\" class=\"dataframe\">\n",
       "  <thead>\n",
       "    <tr style=\"text-align: right;\">\n",
       "      <th></th>\n",
       "      <th>Quarter</th>\n",
       "      <th>Income</th>\n",
       "      <th>Production</th>\n",
       "      <th>Savings</th>\n",
       "      <th>Unemployment</th>\n",
       "      <th>Date</th>\n",
       "    </tr>\n",
       "  </thead>\n",
       "  <tbody>\n",
       "    <tr>\n",
       "      <th>158</th>\n",
       "      <td>158</td>\n",
       "      <td>-1.137177</td>\n",
       "      <td>1.491363</td>\n",
       "      <td>-26.369067</td>\n",
       "      <td>0.3</td>\n",
       "      <td>2009 Q3</td>\n",
       "    </tr>\n",
       "    <tr>\n",
       "      <th>159</th>\n",
       "      <td>159</td>\n",
       "      <td>-0.024645</td>\n",
       "      <td>1.557405</td>\n",
       "      <td>3.304550</td>\n",
       "      <td>0.1</td>\n",
       "      <td>2009 Q4</td>\n",
       "    </tr>\n",
       "    <tr>\n",
       "      <th>160</th>\n",
       "      <td>160</td>\n",
       "      <td>0.560634</td>\n",
       "      <td>1.947034</td>\n",
       "      <td>3.077214</td>\n",
       "      <td>0.0</td>\n",
       "      <td>2010 Q1</td>\n",
       "    </tr>\n",
       "    <tr>\n",
       "      <th>161</th>\n",
       "      <td>161</td>\n",
       "      <td>1.634157</td>\n",
       "      <td>1.944893</td>\n",
       "      <td>15.822528</td>\n",
       "      <td>-0.5</td>\n",
       "      <td>2010 Q2</td>\n",
       "    </tr>\n",
       "  </tbody>\n",
       "</table>\n",
       "</div>"
      ],
      "text/plain": [
       "     Quarter    Income  Production    Savings  Unemployment     Date\n",
       "158      158 -1.137177    1.491363 -26.369067           0.3  2009 Q3\n",
       "159      159 -0.024645    1.557405   3.304550           0.1  2009 Q4\n",
       "160      160  0.560634    1.947034   3.077214           0.0  2010 Q1\n",
       "161      161  1.634157    1.944893  15.822528          -0.5  2010 Q2"
      ]
     },
     "execution_count": 7,
     "metadata": {},
     "output_type": "execute_result"
    }
   ],
   "source": [
    "X_test[:4]"
   ]
  },
  {
   "cell_type": "code",
   "execution_count": null,
   "metadata": {},
   "outputs": [],
   "source": [
    "metrics = ['mse', 'mae']"
   ]
  },
  {
   "cell_type": "code",
   "execution_count": null,
   "metadata": {},
   "outputs": [
    {
     "data": {
      "text/plain": [
       "{'mse': 0.12819038773370228, 'mae': 0.2858484325156872}"
      ]
     },
     "execution_count": 9,
     "metadata": {},
     "output_type": "execute_result"
    }
   ],
   "source": [
    "# Mean \n",
    "model = models.Mean()\n",
    "model.fit(X_train, y_train)\n",
    "y_pred = model.predict(X_test)\n",
    "model.evaluate(metrics=metrics, X=X_test, y=y_test)\n"
   ]
  },
  {
   "cell_type": "code",
   "execution_count": null,
   "metadata": {},
   "outputs": [
    {
     "name": "stdout",
     "output_type": "stream",
     "text": [
      "0.7782184182306155\n",
      "[0.77821842 0.77821842 0.77821842 0.77821842 0.77821842 0.77821842\n",
      " 0.77821842 0.77821842 0.77821842 0.77821842 0.77821842 0.77821842\n",
      " 0.77821842 0.77821842 0.77821842 0.77821842 0.77821842 0.77821842\n",
      " 0.77821842 0.77821842 0.77821842 0.77821842 0.77821842 0.77821842\n",
      " 0.77821842 0.77821842 0.77821842 0.77821842 0.77821842 0.77821842\n",
      " 0.77821842 0.77821842 0.77821842 0.77821842 0.77821842 0.77821842\n",
      " 0.77821842 0.77821842 0.77821842 0.77821842]\n"
     ]
    }
   ],
   "source": [
    "print(y_train.mean())\n",
    "print(y_pred)"
   ]
  },
  {
   "cell_type": "code",
   "execution_count": null,
   "metadata": {},
   "outputs": [
    {
     "data": {
      "text/plain": [
       "{'mse': 1.1112844464118405, 'mae': 1.0071672410592745}"
      ]
     },
     "execution_count": 11,
     "metadata": {},
     "output_type": "execute_result"
    }
   ],
   "source": [
    "# RandomWalk\n",
    "model = models.RandomWalk()\n",
    "model.fit(X_train, y_train)\n",
    "y_pred = model.predict(X_test)\n",
    "model.evaluate(metrics=metrics, X=X_test, y=y_test)\n"
   ]
  },
  {
   "cell_type": "code",
   "execution_count": null,
   "metadata": {},
   "outputs": [
    {
     "name": "stdout",
     "output_type": "stream",
     "text": [
      "-0.405843686476004\n",
      "[-0.40584369 -0.40584369 -0.40584369 -0.40584369 -0.40584369 -0.40584369\n",
      " -0.40584369 -0.40584369 -0.40584369 -0.40584369 -0.40584369 -0.40584369\n",
      " -0.40584369 -0.40584369 -0.40584369 -0.40584369 -0.40584369 -0.40584369\n",
      " -0.40584369 -0.40584369 -0.40584369 -0.40584369 -0.40584369 -0.40584369\n",
      " -0.40584369 -0.40584369 -0.40584369 -0.40584369 -0.40584369 -0.40584369\n",
      " -0.40584369 -0.40584369 -0.40584369 -0.40584369 -0.40584369 -0.40584369\n",
      " -0.40584369 -0.40584369 -0.40584369 -0.40584369]\n"
     ]
    }
   ],
   "source": [
    "print(y_train.iloc[-1])\n",
    "print(y_pred)"
   ]
  },
  {
   "cell_type": "code",
   "execution_count": null,
   "metadata": {},
   "outputs": [
    {
     "data": {
      "text/plain": [
       "{'mse': 1.571022276851322, 'mae': 1.1809660421185963}"
      ]
     },
     "execution_count": 13,
     "metadata": {},
     "output_type": "execute_result"
    }
   ],
   "source": [
    "# SeasonalRandomWalk\n",
    "model = models.SeasonalRandomWalk()\n",
    "model.fit(X_train, y_train,4)\n",
    "y_pred = model.predict(X_test)\n",
    "model.evaluate(metrics=metrics, X=X_test, y=y_test)"
   ]
  },
  {
   "cell_type": "code",
   "execution_count": null,
   "metadata": {},
   "outputs": [
    {
     "data": {
      "text/plain": [
       "{'mse': 1.420756470158393, 'mae': 1.140927793687848}"
      ]
     },
     "execution_count": 14,
     "metadata": {},
     "output_type": "execute_result"
    }
   ],
   "source": [
    "# Drift\n",
    "model = models.Drift()\n",
    "model.fit(X_train, y_train)\n",
    "y_pred = model.predict(X_test)\n",
    "model.evaluate(metrics=metrics, X=X_test, y=y_test)"
   ]
  },
  {
   "cell_type": "code",
   "execution_count": null,
   "metadata": {},
   "outputs": [
    {
     "data": {
      "text/plain": [
       "{'mse': 1.3995552417377886, 'mae': 1.154282189559432}"
      ]
     },
     "execution_count": 15,
     "metadata": {},
     "output_type": "execute_result"
    }
   ],
   "source": [
    "# ExponentialSmoothing\n",
    "model = models.ExponentialSmoothing()\n",
    "model.fit(X_train, y_train, 0.5)\n",
    "y_pred = model.predict(X_test,20)\n",
    "model.evaluate(metrics=metrics, X=X_test, y=y_test,steps=20)"
   ]
  },
  {
   "cell_type": "code",
   "execution_count": null,
   "metadata": {},
   "outputs": [
    {
     "data": {
      "text/plain": [
       "{'mse': 0.02238550411797885, 'mae': 0.11513144763974555}"
      ]
     },
     "execution_count": 16,
     "metadata": {},
     "output_type": "execute_result"
    }
   ],
   "source": [
    "# LinearRegression\n",
    "model = models.LinearRegression()\n",
    "model.fit(X_train, y_train)\n",
    "y_pred = model.predict(X_test)\n",
    "model.evaluate(metrics=metrics, X=X_test, y=y_test)"
   ]
  }
 ],
 "metadata": {
  "kernelspec": {
   "display_name": "Python 3",
   "language": "python",
   "name": "python3"
  },
  "language_info": {
   "codemirror_mode": {
    "name": "ipython",
    "version": 3
   },
   "file_extension": ".py",
   "mimetype": "text/x-python",
   "name": "python",
   "nbconvert_exporter": "python",
   "pygments_lexer": "ipython3",
   "version": "3.11.1"
  }
 },
 "nbformat": 4,
 "nbformat_minor": 2
}
