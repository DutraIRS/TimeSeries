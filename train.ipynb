{
 "cells": [
  {
   "cell_type": "code",
   "execution_count": 1,
   "metadata": {},
   "outputs": [],
   "source": [
    "import models\n",
    "import numpy as np\n",
    "import pandas as pd\n",
    "import matplotlib.pyplot as plt"
   ]
  },
  {
   "cell_type": "code",
   "execution_count": 2,
   "metadata": {},
   "outputs": [],
   "source": [
    "data = pd.read_csv(\"us_change_cleaned.csv\")\n",
    "X = data.drop(columns='Consumption')\n",
    "y = data['Consumption']"
   ]
  },
  {
   "cell_type": "code",
   "execution_count": 3,
   "metadata": {},
   "outputs": [
    {
     "data": {
      "text/plain": [
       "((198, 6), (198,))"
      ]
     },
     "execution_count": 3,
     "metadata": {},
     "output_type": "execute_result"
    }
   ],
   "source": [
    "X.shape, y.shape"
   ]
  },
  {
   "cell_type": "code",
   "execution_count": 4,
   "metadata": {},
   "outputs": [
    {
     "data": {
      "text/plain": [
       "((158, 6), (158,), (40, 6), (40,))"
      ]
     },
     "execution_count": 4,
     "metadata": {},
     "output_type": "execute_result"
    }
   ],
   "source": [
    "X_train = X[:int(0.8*len(X))]\n",
    "y_train = y[:int(0.8*len(y))]\n",
    "X_test = X[int(0.8*len(X)):]\n",
    "y_test = y[int(0.8*len(y)):]\n",
    "X_train.shape, y_train.shape, X_test.shape, y_test.shape"
   ]
  },
  {
   "cell_type": "code",
   "execution_count": 5,
   "metadata": {},
   "outputs": [],
   "source": [
    "metrics = ['mse', 'mae']"
   ]
  },
  {
   "cell_type": "code",
   "execution_count": 6,
   "metadata": {},
   "outputs": [
    {
     "data": {
      "text/plain": [
       "{'mse': 0.12819038773370228, 'mae': 0.2858484325156872}"
      ]
     },
     "execution_count": 6,
     "metadata": {},
     "output_type": "execute_result"
    }
   ],
   "source": [
    "# Mean \n",
    "model = models.Mean()\n",
    "model.fit(X_train, y_train)\n",
    "y_pred = model.predict(X_test)\n",
    "model.evaluate(metrics=metrics, X=X_test, y=y_test)\n"
   ]
  },
  {
   "cell_type": "code",
   "execution_count": 7,
   "metadata": {},
   "outputs": [
    {
     "name": "stdout",
     "output_type": "stream",
     "text": [
      "0.7782184182306155\n",
      "[0.77821842 0.77821842 0.77821842 0.77821842 0.77821842 0.77821842\n",
      " 0.77821842 0.77821842 0.77821842 0.77821842 0.77821842 0.77821842\n",
      " 0.77821842 0.77821842 0.77821842 0.77821842 0.77821842 0.77821842\n",
      " 0.77821842 0.77821842 0.77821842 0.77821842 0.77821842 0.77821842\n",
      " 0.77821842 0.77821842 0.77821842 0.77821842 0.77821842 0.77821842\n",
      " 0.77821842 0.77821842 0.77821842 0.77821842 0.77821842 0.77821842\n",
      " 0.77821842 0.77821842 0.77821842 0.77821842]\n"
     ]
    }
   ],
   "source": [
    "print(y_train.mean())\n",
    "print(y_pred)"
   ]
  },
  {
   "cell_type": "code",
   "execution_count": 8,
   "metadata": {},
   "outputs": [
    {
     "data": {
      "text/plain": [
       "{'mse': 1.1112844464118405, 'mae': 1.0071672410592745}"
      ]
     },
     "execution_count": 8,
     "metadata": {},
     "output_type": "execute_result"
    }
   ],
   "source": [
    "# RandomWalk\n",
    "model = models.RandomWalk()\n",
    "model.fit(X_train, y_train)\n",
    "y_pred = model.predict(X_test)\n",
    "model.evaluate(metrics=metrics, X=X_test, y=y_test)\n"
   ]
  },
  {
   "cell_type": "code",
   "execution_count": 9,
   "metadata": {},
   "outputs": [
    {
     "name": "stdout",
     "output_type": "stream",
     "text": [
      "-0.405843686476004\n",
      "[-0.40584369 -0.40584369 -0.40584369 -0.40584369 -0.40584369 -0.40584369\n",
      " -0.40584369 -0.40584369 -0.40584369 -0.40584369 -0.40584369 -0.40584369\n",
      " -0.40584369 -0.40584369 -0.40584369 -0.40584369 -0.40584369 -0.40584369\n",
      " -0.40584369 -0.40584369 -0.40584369 -0.40584369 -0.40584369 -0.40584369\n",
      " -0.40584369 -0.40584369 -0.40584369 -0.40584369 -0.40584369 -0.40584369\n",
      " -0.40584369 -0.40584369 -0.40584369 -0.40584369 -0.40584369 -0.40584369\n",
      " -0.40584369 -0.40584369 -0.40584369 -0.40584369]\n"
     ]
    }
   ],
   "source": [
    "print(y_train.iloc[-1])\n",
    "print(y_pred)"
   ]
  },
  {
   "cell_type": "code",
   "execution_count": 10,
   "metadata": {},
   "outputs": [
    {
     "name": "stdout",
     "output_type": "stream",
     "text": [
      "     Quarter    Income  Production    Savings  Unemployment     Date\n",
      "4          4  1.975925    1.909764   3.535667          -0.1  1971 Q1\n",
      "5          5  1.445909    0.901570   5.874764          -0.1  1971 Q2\n",
      "6          6  0.521149    0.308031  -0.406235           0.1  1971 Q3\n",
      "7          7  1.159176    2.291362  -1.486259           0.0  1971 Q4\n",
      "8          8  0.456857    4.154295  -4.291972          -0.2  1972 Q1\n",
      "..       ...       ...         ...        ...           ...      ...\n",
      "153      153  1.813508   -1.484941  38.467665           0.5  2008 Q2\n",
      "154      154 -2.123959   -3.349753 -27.365973           0.5  2008 Q3\n",
      "155      155  0.867342   -4.371497  34.223733           1.2  2008 Q4\n",
      "156      156 -0.429951   -5.778784  -5.022486           1.4  2009 Q1\n",
      "157      157  1.069271   -2.890965  22.778077           0.8  2009 Q2\n",
      "\n",
      "[154 rows x 6 columns]\n",
      "     Quarter    Income  Production    Savings  Unemployment     Date\n",
      "158      158 -1.137177    1.491363 -26.369067           0.3  2009 Q3\n",
      "159      159 -0.024645    1.557405   3.304550           0.1  2009 Q4\n",
      "160      160  0.560634    1.947034   3.077214           0.0  2010 Q1\n",
      "161      161  1.634157    1.944893  15.822528          -0.5  2010 Q2\n",
      "162      162  0.709404    1.297693   1.666452           0.1  2010 Q3\n",
      "163      163  0.559127    0.331240   0.465710          -0.2  2010 Q4\n",
      "164      164  1.013855    0.559747  10.698565          -0.3  2011 Q1\n",
      "165      165 -0.217924    0.400668  -4.489587           0.1  2011 Q2\n",
      "166      166  0.435638    1.162408   1.878331          -0.1  2011 Q3\n",
      "167      167  0.310519    0.987173   2.271749          -0.5  2011 Q4\n",
      "168      168  1.854619    0.948550  15.647928          -0.3  2012 Q1\n",
      "169      169  0.905012    0.634470   9.205649           0.0  2012 Q2\n",
      "170      170 -0.718402    0.010197  -9.289442          -0.4  2012 Q3\n",
      "171      171  2.732609    0.523061  26.001019           0.1  2012 Q4\n",
      "172      172 -4.084420    0.779695 -56.471910          -0.4  2013 Q1\n",
      "173      173  0.742249    0.429099  10.758610           0.0  2013 Q2\n",
      "174      174  0.431404    0.356116   1.584276          -0.3  2013 Q3\n",
      "175      175  0.394307    0.682103  -5.782607          -0.5  2013 Q4\n",
      "176      176  1.383321    0.767358  14.625874           0.0  2014 Q1\n",
      "177      177  1.352928    1.328630   5.253322          -0.6  2014 Q2\n",
      "178      178  1.160578    0.591089   2.179275          -0.2  2014 Q3\n",
      "179      179  1.313011    0.654031   1.720210          -0.3  2014 Q4\n",
      "180      180  1.129293   -0.767307   4.019698          -0.2  2015 Q1\n",
      "181      181  0.749587   -1.351835   0.334562          -0.1  2015 Q2\n",
      "182      182  0.732371   -0.017772   0.495779          -0.3  2015 Q3\n",
      "183      183  0.316750   -1.314423  -1.699491           0.0  2015 Q4\n",
      "184      184  0.666137   -0.518922  -0.075685           0.0  2016 Q1\n",
      "185      185 -0.106588   -0.578695  -9.386217          -0.1  2016 Q2\n",
      "186      186  0.447270    0.458071  -2.096172           0.1  2016 Q3\n",
      "187      187  0.598038    0.328145   0.108854          -0.3  2016 Q4\n",
      "188      188  1.192032    0.584273  10.178896          -0.3  2017 Q1\n",
      "189      189  0.664810    1.363453   0.783824          -0.1  2017 Q2\n",
      "190      190  0.579716   -0.201115   0.477740          -0.1  2017 Q3\n",
      "191      191  0.907210    1.812131  -1.323097          -0.1  2017 Q4\n",
      "192      192  1.665726    0.564372  17.415527          -0.1  2018 Q1\n",
      "193      193  0.661825    1.117424  -2.723974           0.0  2018 Q2\n",
      "194      194  0.806271    1.256722  -0.085686          -0.3  2018 Q3\n",
      "195      195  0.695142    0.948148   5.031337           0.2  2018 Q4\n",
      "196      196  1.100753   -0.488206   9.760287          -0.1  2019 Q1\n",
      "197      197  0.593399   -0.539949  -4.264616          -0.1  2019 Q2\n",
      "158    0\n",
      "159   -1\n",
      "160    2\n",
      "161    1\n",
      "162    0\n",
      "163   -1\n",
      "164    2\n",
      "165    1\n",
      "166    0\n",
      "167   -1\n",
      "168    2\n",
      "169    1\n",
      "170    0\n",
      "171   -1\n",
      "172    2\n",
      "173    1\n",
      "174    0\n",
      "175   -1\n",
      "176    2\n",
      "177    1\n",
      "178    0\n",
      "179   -1\n",
      "180    2\n",
      "181    1\n",
      "182    0\n",
      "183   -1\n",
      "184    2\n",
      "185    1\n",
      "186    0\n",
      "187   -1\n",
      "188    2\n",
      "189    1\n",
      "190    0\n",
      "191   -1\n",
      "192    2\n",
      "193    1\n",
      "194    0\n",
      "195   -1\n",
      "196    2\n",
      "197    1\n",
      "Name: Quarter, dtype: int64\n"
     ]
    },
    {
     "ename": "KeyError",
     "evalue": "\"None of [Int64Index([ 0, -1,  2,  1,  0, -1,  2,  1,  0, -1,  2,  1,  0, -1,  2,  1,  0,\\n            -1,  2,  1,  0, -1,  2,  1,  0, -1,  2,  1,  0, -1,  2,  1,  0, -1,\\n             2,  1,  0, -1,  2,  1],\\n           dtype='int64')] are in the [index]\"",
     "output_type": "error",
     "traceback": [
      "\u001b[1;31m---------------------------------------------------------------------------\u001b[0m",
      "\u001b[1;31mKeyError\u001b[0m                                  Traceback (most recent call last)",
      "Cell \u001b[1;32mIn[10], line 4\u001b[0m\n\u001b[0;32m      2\u001b[0m model \u001b[38;5;241m=\u001b[39m models\u001b[38;5;241m.\u001b[39mSeasonalRandomWalk()\n\u001b[0;32m      3\u001b[0m model\u001b[38;5;241m.\u001b[39mfit(X_train, y_train,\u001b[38;5;241m4\u001b[39m)\n\u001b[1;32m----> 4\u001b[0m y_pred \u001b[38;5;241m=\u001b[39m \u001b[43mmodel\u001b[49m\u001b[38;5;241;43m.\u001b[39;49m\u001b[43mpredict\u001b[49m\u001b[43m(\u001b[49m\u001b[43mX_test\u001b[49m\u001b[43m)\u001b[49m\n\u001b[0;32m      5\u001b[0m model\u001b[38;5;241m.\u001b[39mevaluate(metrics\u001b[38;5;241m=\u001b[39mmetrics, X\u001b[38;5;241m=\u001b[39mX_test, y\u001b[38;5;241m=\u001b[39my_test)\n",
      "File \u001b[1;32mc:\\Users\\Lavin\\OneDrive\\Documentos\\GitHub\\engenharia_de_software\\TimeSeries\\models.py:70\u001b[0m, in \u001b[0;36mSeasonalRandomWalk.predict\u001b[1;34m(self, x)\u001b[0m\n\u001b[0;32m     68\u001b[0m predictions \u001b[38;5;241m=\u001b[39m \u001b[38;5;28mself\u001b[39m\u001b[38;5;241m.\u001b[39mlast_observation \u001b[38;5;241m-\u001b[39m quarters \u001b[38;5;241m+\u001b[39m \u001b[38;5;241m1\u001b[39m\n\u001b[0;32m     69\u001b[0m \u001b[38;5;28mprint\u001b[39m(predictions)\n\u001b[1;32m---> 70\u001b[0m \u001b[38;5;28;01mreturn\u001b[39;00m \u001b[38;5;28;43mself\u001b[39;49m\u001b[38;5;241;43m.\u001b[39;49m\u001b[43mlast_season\u001b[49m\u001b[43m[\u001b[49m\u001b[43mpredictions\u001b[49m\u001b[38;5;241;43m.\u001b[39;49m\u001b[43mvalues\u001b[49m\u001b[43m]\u001b[49m\u001b[38;5;241m.\u001b[39mvalues\n",
      "File \u001b[1;32mc:\\Users\\Lavin\\AppData\\Local\\Programs\\Python\\Python311\\Lib\\site-packages\\pandas\\core\\series.py:1007\u001b[0m, in \u001b[0;36mSeries.__getitem__\u001b[1;34m(self, key)\u001b[0m\n\u001b[0;32m   1004\u001b[0m     key \u001b[38;5;241m=\u001b[39m np\u001b[38;5;241m.\u001b[39masarray(key, dtype\u001b[38;5;241m=\u001b[39m\u001b[38;5;28mbool\u001b[39m)\n\u001b[0;32m   1005\u001b[0m     \u001b[38;5;28;01mreturn\u001b[39;00m \u001b[38;5;28mself\u001b[39m\u001b[38;5;241m.\u001b[39m_get_values(key)\n\u001b[1;32m-> 1007\u001b[0m \u001b[38;5;28;01mreturn\u001b[39;00m \u001b[38;5;28;43mself\u001b[39;49m\u001b[38;5;241;43m.\u001b[39;49m\u001b[43m_get_with\u001b[49m\u001b[43m(\u001b[49m\u001b[43mkey\u001b[49m\u001b[43m)\u001b[49m\n",
      "File \u001b[1;32mc:\\Users\\Lavin\\AppData\\Local\\Programs\\Python\\Python311\\Lib\\site-packages\\pandas\\core\\series.py:1042\u001b[0m, in \u001b[0;36mSeries._get_with\u001b[1;34m(self, key)\u001b[0m\n\u001b[0;32m   1038\u001b[0m \u001b[38;5;28;01mif\u001b[39;00m key_type \u001b[38;5;241m==\u001b[39m \u001b[38;5;124m\"\u001b[39m\u001b[38;5;124minteger\u001b[39m\u001b[38;5;124m\"\u001b[39m:\n\u001b[0;32m   1039\u001b[0m     \u001b[38;5;66;03m# We need to decide whether to treat this as a positional indexer\u001b[39;00m\n\u001b[0;32m   1040\u001b[0m     \u001b[38;5;66;03m#  (i.e. self.iloc) or label-based (i.e. self.loc)\u001b[39;00m\n\u001b[0;32m   1041\u001b[0m     \u001b[38;5;28;01mif\u001b[39;00m \u001b[38;5;129;01mnot\u001b[39;00m \u001b[38;5;28mself\u001b[39m\u001b[38;5;241m.\u001b[39mindex\u001b[38;5;241m.\u001b[39m_should_fallback_to_positional:\n\u001b[1;32m-> 1042\u001b[0m         \u001b[38;5;28;01mreturn\u001b[39;00m \u001b[38;5;28;43mself\u001b[39;49m\u001b[38;5;241;43m.\u001b[39;49m\u001b[43mloc\u001b[49m\u001b[43m[\u001b[49m\u001b[43mkey\u001b[49m\u001b[43m]\u001b[49m\n\u001b[0;32m   1043\u001b[0m     \u001b[38;5;28;01melse\u001b[39;00m:\n\u001b[0;32m   1044\u001b[0m         \u001b[38;5;28;01mreturn\u001b[39;00m \u001b[38;5;28mself\u001b[39m\u001b[38;5;241m.\u001b[39miloc[key]\n",
      "File \u001b[1;32mc:\\Users\\Lavin\\AppData\\Local\\Programs\\Python\\Python311\\Lib\\site-packages\\pandas\\core\\indexing.py:1073\u001b[0m, in \u001b[0;36m_LocationIndexer.__getitem__\u001b[1;34m(self, key)\u001b[0m\n\u001b[0;32m   1070\u001b[0m axis \u001b[38;5;241m=\u001b[39m \u001b[38;5;28mself\u001b[39m\u001b[38;5;241m.\u001b[39maxis \u001b[38;5;129;01mor\u001b[39;00m \u001b[38;5;241m0\u001b[39m\n\u001b[0;32m   1072\u001b[0m maybe_callable \u001b[38;5;241m=\u001b[39m com\u001b[38;5;241m.\u001b[39mapply_if_callable(key, \u001b[38;5;28mself\u001b[39m\u001b[38;5;241m.\u001b[39mobj)\n\u001b[1;32m-> 1073\u001b[0m \u001b[38;5;28;01mreturn\u001b[39;00m \u001b[38;5;28;43mself\u001b[39;49m\u001b[38;5;241;43m.\u001b[39;49m\u001b[43m_getitem_axis\u001b[49m\u001b[43m(\u001b[49m\u001b[43mmaybe_callable\u001b[49m\u001b[43m,\u001b[49m\u001b[43m \u001b[49m\u001b[43maxis\u001b[49m\u001b[38;5;241;43m=\u001b[39;49m\u001b[43maxis\u001b[49m\u001b[43m)\u001b[49m\n",
      "File \u001b[1;32mc:\\Users\\Lavin\\AppData\\Local\\Programs\\Python\\Python311\\Lib\\site-packages\\pandas\\core\\indexing.py:1301\u001b[0m, in \u001b[0;36m_LocIndexer._getitem_axis\u001b[1;34m(self, key, axis)\u001b[0m\n\u001b[0;32m   1298\u001b[0m     \u001b[38;5;28;01mif\u001b[39;00m \u001b[38;5;28mhasattr\u001b[39m(key, \u001b[38;5;124m\"\u001b[39m\u001b[38;5;124mndim\u001b[39m\u001b[38;5;124m\"\u001b[39m) \u001b[38;5;129;01mand\u001b[39;00m key\u001b[38;5;241m.\u001b[39mndim \u001b[38;5;241m>\u001b[39m \u001b[38;5;241m1\u001b[39m:\n\u001b[0;32m   1299\u001b[0m         \u001b[38;5;28;01mraise\u001b[39;00m \u001b[38;5;167;01mValueError\u001b[39;00m(\u001b[38;5;124m\"\u001b[39m\u001b[38;5;124mCannot index with multidimensional key\u001b[39m\u001b[38;5;124m\"\u001b[39m)\n\u001b[1;32m-> 1301\u001b[0m     \u001b[38;5;28;01mreturn\u001b[39;00m \u001b[38;5;28;43mself\u001b[39;49m\u001b[38;5;241;43m.\u001b[39;49m\u001b[43m_getitem_iterable\u001b[49m\u001b[43m(\u001b[49m\u001b[43mkey\u001b[49m\u001b[43m,\u001b[49m\u001b[43m \u001b[49m\u001b[43maxis\u001b[49m\u001b[38;5;241;43m=\u001b[39;49m\u001b[43maxis\u001b[49m\u001b[43m)\u001b[49m\n\u001b[0;32m   1303\u001b[0m \u001b[38;5;66;03m# nested tuple slicing\u001b[39;00m\n\u001b[0;32m   1304\u001b[0m \u001b[38;5;28;01mif\u001b[39;00m is_nested_tuple(key, labels):\n",
      "File \u001b[1;32mc:\\Users\\Lavin\\AppData\\Local\\Programs\\Python\\Python311\\Lib\\site-packages\\pandas\\core\\indexing.py:1239\u001b[0m, in \u001b[0;36m_LocIndexer._getitem_iterable\u001b[1;34m(self, key, axis)\u001b[0m\n\u001b[0;32m   1236\u001b[0m \u001b[38;5;28mself\u001b[39m\u001b[38;5;241m.\u001b[39m_validate_key(key, axis)\n\u001b[0;32m   1238\u001b[0m \u001b[38;5;66;03m# A collection of keys\u001b[39;00m\n\u001b[1;32m-> 1239\u001b[0m keyarr, indexer \u001b[38;5;241m=\u001b[39m \u001b[38;5;28;43mself\u001b[39;49m\u001b[38;5;241;43m.\u001b[39;49m\u001b[43m_get_listlike_indexer\u001b[49m\u001b[43m(\u001b[49m\u001b[43mkey\u001b[49m\u001b[43m,\u001b[49m\u001b[43m \u001b[49m\u001b[43maxis\u001b[49m\u001b[43m)\u001b[49m\n\u001b[0;32m   1240\u001b[0m \u001b[38;5;28;01mreturn\u001b[39;00m \u001b[38;5;28mself\u001b[39m\u001b[38;5;241m.\u001b[39mobj\u001b[38;5;241m.\u001b[39m_reindex_with_indexers(\n\u001b[0;32m   1241\u001b[0m     {axis: [keyarr, indexer]}, copy\u001b[38;5;241m=\u001b[39m\u001b[38;5;28;01mTrue\u001b[39;00m, allow_dups\u001b[38;5;241m=\u001b[39m\u001b[38;5;28;01mTrue\u001b[39;00m\n\u001b[0;32m   1242\u001b[0m )\n",
      "File \u001b[1;32mc:\\Users\\Lavin\\AppData\\Local\\Programs\\Python\\Python311\\Lib\\site-packages\\pandas\\core\\indexing.py:1432\u001b[0m, in \u001b[0;36m_LocIndexer._get_listlike_indexer\u001b[1;34m(self, key, axis)\u001b[0m\n\u001b[0;32m   1429\u001b[0m ax \u001b[38;5;241m=\u001b[39m \u001b[38;5;28mself\u001b[39m\u001b[38;5;241m.\u001b[39mobj\u001b[38;5;241m.\u001b[39m_get_axis(axis)\n\u001b[0;32m   1430\u001b[0m axis_name \u001b[38;5;241m=\u001b[39m \u001b[38;5;28mself\u001b[39m\u001b[38;5;241m.\u001b[39mobj\u001b[38;5;241m.\u001b[39m_get_axis_name(axis)\n\u001b[1;32m-> 1432\u001b[0m keyarr, indexer \u001b[38;5;241m=\u001b[39m \u001b[43max\u001b[49m\u001b[38;5;241;43m.\u001b[39;49m\u001b[43m_get_indexer_strict\u001b[49m\u001b[43m(\u001b[49m\u001b[43mkey\u001b[49m\u001b[43m,\u001b[49m\u001b[43m \u001b[49m\u001b[43maxis_name\u001b[49m\u001b[43m)\u001b[49m\n\u001b[0;32m   1434\u001b[0m \u001b[38;5;28;01mreturn\u001b[39;00m keyarr, indexer\n",
      "File \u001b[1;32mc:\\Users\\Lavin\\AppData\\Local\\Programs\\Python\\Python311\\Lib\\site-packages\\pandas\\core\\indexes\\base.py:6070\u001b[0m, in \u001b[0;36mIndex._get_indexer_strict\u001b[1;34m(self, key, axis_name)\u001b[0m\n\u001b[0;32m   6067\u001b[0m \u001b[38;5;28;01melse\u001b[39;00m:\n\u001b[0;32m   6068\u001b[0m     keyarr, indexer, new_indexer \u001b[38;5;241m=\u001b[39m \u001b[38;5;28mself\u001b[39m\u001b[38;5;241m.\u001b[39m_reindex_non_unique(keyarr)\n\u001b[1;32m-> 6070\u001b[0m \u001b[38;5;28;43mself\u001b[39;49m\u001b[38;5;241;43m.\u001b[39;49m\u001b[43m_raise_if_missing\u001b[49m\u001b[43m(\u001b[49m\u001b[43mkeyarr\u001b[49m\u001b[43m,\u001b[49m\u001b[43m \u001b[49m\u001b[43mindexer\u001b[49m\u001b[43m,\u001b[49m\u001b[43m \u001b[49m\u001b[43maxis_name\u001b[49m\u001b[43m)\u001b[49m\n\u001b[0;32m   6072\u001b[0m keyarr \u001b[38;5;241m=\u001b[39m \u001b[38;5;28mself\u001b[39m\u001b[38;5;241m.\u001b[39mtake(indexer)\n\u001b[0;32m   6073\u001b[0m \u001b[38;5;28;01mif\u001b[39;00m \u001b[38;5;28misinstance\u001b[39m(key, Index):\n\u001b[0;32m   6074\u001b[0m     \u001b[38;5;66;03m# GH 42790 - Preserve name from an Index\u001b[39;00m\n",
      "File \u001b[1;32mc:\\Users\\Lavin\\AppData\\Local\\Programs\\Python\\Python311\\Lib\\site-packages\\pandas\\core\\indexes\\base.py:6130\u001b[0m, in \u001b[0;36mIndex._raise_if_missing\u001b[1;34m(self, key, indexer, axis_name)\u001b[0m\n\u001b[0;32m   6128\u001b[0m     \u001b[38;5;28;01mif\u001b[39;00m use_interval_msg:\n\u001b[0;32m   6129\u001b[0m         key \u001b[38;5;241m=\u001b[39m \u001b[38;5;28mlist\u001b[39m(key)\n\u001b[1;32m-> 6130\u001b[0m     \u001b[38;5;28;01mraise\u001b[39;00m \u001b[38;5;167;01mKeyError\u001b[39;00m(\u001b[38;5;124mf\u001b[39m\u001b[38;5;124m\"\u001b[39m\u001b[38;5;124mNone of [\u001b[39m\u001b[38;5;132;01m{\u001b[39;00mkey\u001b[38;5;132;01m}\u001b[39;00m\u001b[38;5;124m] are in the [\u001b[39m\u001b[38;5;132;01m{\u001b[39;00maxis_name\u001b[38;5;132;01m}\u001b[39;00m\u001b[38;5;124m]\u001b[39m\u001b[38;5;124m\"\u001b[39m)\n\u001b[0;32m   6132\u001b[0m not_found \u001b[38;5;241m=\u001b[39m \u001b[38;5;28mlist\u001b[39m(ensure_index(key)[missing_mask\u001b[38;5;241m.\u001b[39mnonzero()[\u001b[38;5;241m0\u001b[39m]]\u001b[38;5;241m.\u001b[39munique())\n\u001b[0;32m   6133\u001b[0m \u001b[38;5;28;01mraise\u001b[39;00m \u001b[38;5;167;01mKeyError\u001b[39;00m(\u001b[38;5;124mf\u001b[39m\u001b[38;5;124m\"\u001b[39m\u001b[38;5;132;01m{\u001b[39;00mnot_found\u001b[38;5;132;01m}\u001b[39;00m\u001b[38;5;124m not in index\u001b[39m\u001b[38;5;124m\"\u001b[39m)\n",
      "\u001b[1;31mKeyError\u001b[0m: \"None of [Int64Index([ 0, -1,  2,  1,  0, -1,  2,  1,  0, -1,  2,  1,  0, -1,  2,  1,  0,\\n            -1,  2,  1,  0, -1,  2,  1,  0, -1,  2,  1,  0, -1,  2,  1,  0, -1,\\n             2,  1,  0, -1,  2,  1],\\n           dtype='int64')] are in the [index]\""
     ]
    }
   ],
   "source": [
    "# SeasonalRandomWalk\n",
    "model = models.SeasonalRandomWalk()\n",
    "model.fit(X_train, y_train,4)\n",
    "y_pred = model.predict(X_test)\n",
    "model.evaluate(metrics=metrics, X=X_test, y=y_test)"
   ]
  },
  {
   "cell_type": "code",
   "execution_count": null,
   "metadata": {},
   "outputs": [],
   "source": [
    "# Drift\n",
    "model = models.Drift()\n",
    "model.fit(X_train, y_train)\n",
    "y_pred = model.predict(X_test)\n",
    "model.evaluate(metrics=metrics, X=X_test, y=y_test)"
   ]
  },
  {
   "cell_type": "code",
   "execution_count": null,
   "metadata": {},
   "outputs": [],
   "source": [
    "# LinearRegression\n",
    "model = models.LinearRegression()\n",
    "model.fit(X_train, y_train)\n",
    "y_pred = model.predict(X_test)\n",
    "model.evaluate(metrics=metrics, X=X_test, y=y_test)"
   ]
  }
 ],
 "metadata": {
  "kernelspec": {
   "display_name": "Python 3",
   "language": "python",
   "name": "python3"
  },
  "language_info": {
   "codemirror_mode": {
    "name": "ipython",
    "version": 3
   },
   "file_extension": ".py",
   "mimetype": "text/x-python",
   "name": "python",
   "nbconvert_exporter": "python",
   "pygments_lexer": "ipython3",
   "version": "3.11.1"
  }
 },
 "nbformat": 4,
 "nbformat_minor": 2
}
