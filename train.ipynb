{
 "cells": [
  {
   "cell_type": "code",
   "execution_count": 1,
   "metadata": {},
   "outputs": [],
   "source": [
    "import models\n",
    "import numpy as np\n",
    "import pandas as pd\n",
    "import matplotlib.pyplot as plt"
   ]
  },
  {
   "cell_type": "code",
   "execution_count": 2,
   "metadata": {},
   "outputs": [],
   "source": [
    "data = pd.read_csv(\"us_change_cleaned.csv\")\n",
    "X = data.drop(columns='Consumption')\n",
    "y = data['Consumption']"
   ]
  },
  {
   "cell_type": "code",
   "execution_count": 3,
   "metadata": {},
   "outputs": [
    {
     "data": {
      "text/plain": [
       "((198, 6), (198,))"
      ]
     },
     "execution_count": 3,
     "metadata": {},
     "output_type": "execute_result"
    }
   ],
   "source": [
    "X.shape, y.shape"
   ]
  },
  {
   "cell_type": "code",
   "execution_count": 4,
   "metadata": {},
   "outputs": [
    {
     "data": {
      "text/plain": [
       "((158, 6), (158,), (40, 6), (40,))"
      ]
     },
     "execution_count": 4,
     "metadata": {},
     "output_type": "execute_result"
    }
   ],
   "source": [
    "X_train = X[:int(0.8*len(X))]\n",
    "y_train = y[:int(0.8*len(y))]\n",
    "X_test = X[int(0.8*len(X)):]\n",
    "y_test = y[int(0.8*len(y)):]\n",
    "X_train.shape, y_train.shape, X_test.shape, y_test.shape"
   ]
  },
  {
   "cell_type": "code",
   "execution_count": 5,
   "metadata": {},
   "outputs": [
    {
     "data": {
      "text/html": [
       "<div>\n",
       "<style scoped>\n",
       "    .dataframe tbody tr th:only-of-type {\n",
       "        vertical-align: middle;\n",
       "    }\n",
       "\n",
       "    .dataframe tbody tr th {\n",
       "        vertical-align: top;\n",
       "    }\n",
       "\n",
       "    .dataframe thead th {\n",
       "        text-align: right;\n",
       "    }\n",
       "</style>\n",
       "<table border=\"1\" class=\"dataframe\">\n",
       "  <thead>\n",
       "    <tr style=\"text-align: right;\">\n",
       "      <th></th>\n",
       "      <th>Quarter</th>\n",
       "      <th>Income</th>\n",
       "      <th>Production</th>\n",
       "      <th>Savings</th>\n",
       "      <th>Unemployment</th>\n",
       "      <th>Date</th>\n",
       "    </tr>\n",
       "  </thead>\n",
       "  <tbody>\n",
       "    <tr>\n",
       "      <th>154</th>\n",
       "      <td>154</td>\n",
       "      <td>-2.123959</td>\n",
       "      <td>-3.349753</td>\n",
       "      <td>-27.365973</td>\n",
       "      <td>0.5</td>\n",
       "      <td>2008 Q3</td>\n",
       "    </tr>\n",
       "    <tr>\n",
       "      <th>155</th>\n",
       "      <td>155</td>\n",
       "      <td>0.867342</td>\n",
       "      <td>-4.371497</td>\n",
       "      <td>34.223733</td>\n",
       "      <td>1.2</td>\n",
       "      <td>2008 Q4</td>\n",
       "    </tr>\n",
       "    <tr>\n",
       "      <th>156</th>\n",
       "      <td>156</td>\n",
       "      <td>-0.429951</td>\n",
       "      <td>-5.778784</td>\n",
       "      <td>-5.022486</td>\n",
       "      <td>1.4</td>\n",
       "      <td>2009 Q1</td>\n",
       "    </tr>\n",
       "    <tr>\n",
       "      <th>157</th>\n",
       "      <td>157</td>\n",
       "      <td>1.069271</td>\n",
       "      <td>-2.890965</td>\n",
       "      <td>22.778077</td>\n",
       "      <td>0.8</td>\n",
       "      <td>2009 Q2</td>\n",
       "    </tr>\n",
       "  </tbody>\n",
       "</table>\n",
       "</div>"
      ],
      "text/plain": [
       "     Quarter    Income  Production    Savings  Unemployment     Date\n",
       "154      154 -2.123959   -3.349753 -27.365973           0.5  2008 Q3\n",
       "155      155  0.867342   -4.371497  34.223733           1.2  2008 Q4\n",
       "156      156 -0.429951   -5.778784  -5.022486           1.4  2009 Q1\n",
       "157      157  1.069271   -2.890965  22.778077           0.8  2009 Q2"
      ]
     },
     "execution_count": 5,
     "metadata": {},
     "output_type": "execute_result"
    }
   ],
   "source": [
    "X_train[-4:]"
   ]
  },
  {
   "cell_type": "code",
   "execution_count": 6,
   "metadata": {},
   "outputs": [
    {
     "data": {
      "text/plain": [
       "154   -0.751601\n",
       "155   -0.935007\n",
       "156   -0.226118\n",
       "157   -0.405844\n",
       "Name: Consumption, dtype: float64"
      ]
     },
     "execution_count": 6,
     "metadata": {},
     "output_type": "execute_result"
    }
   ],
   "source": [
    "y_train[-4:]"
   ]
  },
  {
   "cell_type": "code",
   "execution_count": 7,
   "metadata": {},
   "outputs": [
    {
     "data": {
      "text/html": [
       "<div>\n",
       "<style scoped>\n",
       "    .dataframe tbody tr th:only-of-type {\n",
       "        vertical-align: middle;\n",
       "    }\n",
       "\n",
       "    .dataframe tbody tr th {\n",
       "        vertical-align: top;\n",
       "    }\n",
       "\n",
       "    .dataframe thead th {\n",
       "        text-align: right;\n",
       "    }\n",
       "</style>\n",
       "<table border=\"1\" class=\"dataframe\">\n",
       "  <thead>\n",
       "    <tr style=\"text-align: right;\">\n",
       "      <th></th>\n",
       "      <th>Quarter</th>\n",
       "      <th>Income</th>\n",
       "      <th>Production</th>\n",
       "      <th>Savings</th>\n",
       "      <th>Unemployment</th>\n",
       "      <th>Date</th>\n",
       "    </tr>\n",
       "  </thead>\n",
       "  <tbody>\n",
       "    <tr>\n",
       "      <th>158</th>\n",
       "      <td>158</td>\n",
       "      <td>-1.137177</td>\n",
       "      <td>1.491363</td>\n",
       "      <td>-26.369067</td>\n",
       "      <td>0.3</td>\n",
       "      <td>2009 Q3</td>\n",
       "    </tr>\n",
       "    <tr>\n",
       "      <th>159</th>\n",
       "      <td>159</td>\n",
       "      <td>-0.024645</td>\n",
       "      <td>1.557405</td>\n",
       "      <td>3.304550</td>\n",
       "      <td>0.1</td>\n",
       "      <td>2009 Q4</td>\n",
       "    </tr>\n",
       "    <tr>\n",
       "      <th>160</th>\n",
       "      <td>160</td>\n",
       "      <td>0.560634</td>\n",
       "      <td>1.947034</td>\n",
       "      <td>3.077214</td>\n",
       "      <td>0.0</td>\n",
       "      <td>2010 Q1</td>\n",
       "    </tr>\n",
       "    <tr>\n",
       "      <th>161</th>\n",
       "      <td>161</td>\n",
       "      <td>1.634157</td>\n",
       "      <td>1.944893</td>\n",
       "      <td>15.822528</td>\n",
       "      <td>-0.5</td>\n",
       "      <td>2010 Q2</td>\n",
       "    </tr>\n",
       "  </tbody>\n",
       "</table>\n",
       "</div>"
      ],
      "text/plain": [
       "     Quarter    Income  Production    Savings  Unemployment     Date\n",
       "158      158 -1.137177    1.491363 -26.369067           0.3  2009 Q3\n",
       "159      159 -0.024645    1.557405   3.304550           0.1  2009 Q4\n",
       "160      160  0.560634    1.947034   3.077214           0.0  2010 Q1\n",
       "161      161  1.634157    1.944893  15.822528          -0.5  2010 Q2"
      ]
     },
     "execution_count": 7,
     "metadata": {},
     "output_type": "execute_result"
    }
   ],
   "source": [
    "X_test[:4]"
   ]
  },
  {
   "cell_type": "code",
   "execution_count": 8,
   "metadata": {},
   "outputs": [],
   "source": [
    "metrics = ['mse', 'mae']"
   ]
  },
  {
   "cell_type": "code",
   "execution_count": 9,
   "metadata": {},
   "outputs": [
    {
     "data": {
      "text/plain": [
       "{'mse': 0.12819038773370228, 'mae': 0.2858484325156872}"
      ]
     },
     "execution_count": 9,
     "metadata": {},
     "output_type": "execute_result"
    }
   ],
   "source": [
    "# Mean \n",
    "model = models.Mean()\n",
    "model.fit(X_train, y_train)\n",
    "y_pred = model.predict(X_test)\n",
    "model.evaluate(metrics=metrics, X=X_test, y=y_test)\n"
   ]
  },
  {
   "cell_type": "code",
   "execution_count": 10,
   "metadata": {},
   "outputs": [
    {
     "name": "stdout",
     "output_type": "stream",
     "text": [
      "0.7782184182306155\n",
      "[0.77821842 0.77821842 0.77821842 0.77821842 0.77821842 0.77821842\n",
      " 0.77821842 0.77821842 0.77821842 0.77821842 0.77821842 0.77821842\n",
      " 0.77821842 0.77821842 0.77821842 0.77821842 0.77821842 0.77821842\n",
      " 0.77821842 0.77821842 0.77821842 0.77821842 0.77821842 0.77821842\n",
      " 0.77821842 0.77821842 0.77821842 0.77821842 0.77821842 0.77821842\n",
      " 0.77821842 0.77821842 0.77821842 0.77821842 0.77821842 0.77821842\n",
      " 0.77821842 0.77821842 0.77821842 0.77821842]\n"
     ]
    }
   ],
   "source": [
    "print(y_train.mean())\n",
    "print(y_pred)"
   ]
  },
  {
   "cell_type": "code",
   "execution_count": 11,
   "metadata": {},
   "outputs": [
    {
     "data": {
      "text/plain": [
       "{'mse': 1.1112844464118405, 'mae': 1.0071672410592745}"
      ]
     },
     "execution_count": 11,
     "metadata": {},
     "output_type": "execute_result"
    }
   ],
   "source": [
    "# RandomWalk\n",
    "model = models.RandomWalk()\n",
    "model.fit(X_train, y_train)\n",
    "y_pred = model.predict(X_test)\n",
    "model.evaluate(metrics=metrics, X=X_test, y=y_test)\n"
   ]
  },
  {
   "cell_type": "code",
   "execution_count": 12,
   "metadata": {},
   "outputs": [
    {
     "name": "stdout",
     "output_type": "stream",
     "text": [
      "-0.405843686476004\n",
      "[-0.40584369 -0.40584369 -0.40584369 -0.40584369 -0.40584369 -0.40584369\n",
      " -0.40584369 -0.40584369 -0.40584369 -0.40584369 -0.40584369 -0.40584369\n",
      " -0.40584369 -0.40584369 -0.40584369 -0.40584369 -0.40584369 -0.40584369\n",
      " -0.40584369 -0.40584369 -0.40584369 -0.40584369 -0.40584369 -0.40584369\n",
      " -0.40584369 -0.40584369 -0.40584369 -0.40584369 -0.40584369 -0.40584369\n",
      " -0.40584369 -0.40584369 -0.40584369 -0.40584369 -0.40584369 -0.40584369\n",
      " -0.40584369 -0.40584369 -0.40584369 -0.40584369]\n"
     ]
    }
   ],
   "source": [
    "print(y_train.iloc[-1])\n",
    "print(y_pred)"
   ]
  },
  {
   "cell_type": "code",
   "execution_count": 13,
   "metadata": {},
   "outputs": [
    {
     "data": {
      "text/plain": [
       "{'mse': 1.571022276851322, 'mae': 1.1809660421185963}"
      ]
     },
     "execution_count": 13,
     "metadata": {},
     "output_type": "execute_result"
    }
   ],
   "source": [
    "# SeasonalRandomWalk\n",
    "model = models.SeasonalRandomWalk()\n",
    "model.fit(X_train, y_train,4)\n",
    "y_pred = model.predict(X_test)\n",
    "model.evaluate(metrics=metrics, X=X_test, y=y_test)"
   ]
  },
  {
   "cell_type": "code",
   "execution_count": 14,
   "metadata": {},
   "outputs": [
    {
     "data": {
      "text/plain": [
       "{'mse': 1.420756470158393, 'mae': 1.140927793687848}"
      ]
     },
     "execution_count": 14,
     "metadata": {},
     "output_type": "execute_result"
    }
   ],
   "source": [
    "# Drift\n",
    "model = models.Drift()\n",
    "model.fit(X_train, y_train)\n",
    "y_pred = model.predict(X_test)\n",
    "model.evaluate(metrics=metrics, X=X_test, y=y_test)"
   ]
  },
  {
   "cell_type": "code",
   "execution_count": 15,
   "metadata": {},
   "outputs": [
    {
     "data": {
      "text/plain": [
       "{'mse': 0.02238550411797885, 'mae': 0.11513144763974555}"
      ]
     },
     "execution_count": 15,
     "metadata": {},
     "output_type": "execute_result"
    }
   ],
   "source": [
    "# LinearRegression\n",
    "model = models.LinearRegression()\n",
    "model.fit(X_train, y_train)\n",
    "y_pred = model.predict(X_test)\n",
    "model.evaluate(metrics=metrics, X=X_test, y=y_test)"
   ]
  }
 ],
 "metadata": {
  "kernelspec": {
   "display_name": "Python 3",
   "language": "python",
   "name": "python3"
  },
  "language_info": {
   "codemirror_mode": {
    "name": "ipython",
    "version": 3
   },
   "file_extension": ".py",
   "mimetype": "text/x-python",
   "name": "python",
   "nbconvert_exporter": "python",
   "pygments_lexer": "ipython3",
   "version": "3.11.1"
  }
 },
 "nbformat": 4,
 "nbformat_minor": 2
}
